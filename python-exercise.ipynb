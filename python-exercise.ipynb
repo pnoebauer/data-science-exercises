{
 "cells": [
  {
   "cell_type": "code",
   "execution_count": 1,
   "id": "normal-columbus",
   "metadata": {},
   "outputs": [],
   "source": [
    "list = ['a', 'b', 'c', 'd', 'x', 'x', 'm', 'm', 'm']"
   ]
  },
  {
   "cell_type": "code",
   "execution_count": 2,
   "id": "quarterly-research",
   "metadata": {},
   "outputs": [
    {
     "name": "stdout",
     "output_type": "stream",
     "text": [
      "a\n",
      "b\n",
      "c\n",
      "d\n",
      "x\n",
      "x\n",
      "m\n",
      "m\n",
      "m\n"
     ]
    }
   ],
   "source": [
    "for i in list:\n",
    "    print(i)"
   ]
  },
  {
   "cell_type": "code",
   "execution_count": 4,
   "id": "dedicated-condition",
   "metadata": {},
   "outputs": [
    {
     "name": "stdout",
     "output_type": "stream",
     "text": [
      "0 a\n",
      "1 b\n",
      "2 c\n",
      "3 d\n",
      "4 x\n",
      "5 x\n",
      "6 m\n",
      "7 m\n",
      "8 m\n"
     ]
    }
   ],
   "source": [
    "for i, value in enumerate(list):\n",
    "    print(i, value)"
   ]
  },
  {
   "cell_type": "code",
   "execution_count": 9,
   "id": "oriental-editor",
   "metadata": {},
   "outputs": [
    {
     "name": "stdout",
     "output_type": "stream",
     "text": [
      "1 b\n",
      "2 c\n",
      "3 d\n",
      "4 x\n",
      "5 x\n",
      "6 m\n",
      "7 m\n",
      "8 m\n"
     ]
    }
   ],
   "source": [
    "i=1\n",
    "while i<len(list):\n",
    "    print(i, list[i])\n",
    "    i+=1"
   ]
  },
  {
   "cell_type": "code",
   "execution_count": 13,
   "id": "vocational-scott",
   "metadata": {},
   "outputs": [
    {
     "name": "stdout",
     "output_type": "stream",
     "text": [
      "outer 1 b\n",
      "inner 0 a\n",
      "outer 2 c\n",
      "inner 0 a\n",
      "inner 1 b\n",
      "outer 3 d\n",
      "inner 0 a\n",
      "inner 1 b\n",
      "inner 2 c\n",
      "outer 4 x\n",
      "inner 0 a\n",
      "inner 1 b\n",
      "inner 2 c\n",
      "inner 3 d\n",
      "outer 5 x\n",
      "inner 0 a\n",
      "inner 1 b\n",
      "inner 2 c\n",
      "inner 3 d\n",
      "inner 4 x\n",
      "duplicate found x 5 4\n",
      "outer 6 m\n",
      "inner 0 a\n",
      "inner 1 b\n",
      "inner 2 c\n",
      "inner 3 d\n",
      "inner 4 x\n",
      "inner 5 x\n",
      "outer 7 m\n",
      "inner 0 a\n",
      "inner 1 b\n",
      "inner 2 c\n",
      "inner 3 d\n",
      "inner 4 x\n",
      "inner 5 x\n",
      "inner 6 m\n",
      "duplicate found m 7 6\n",
      "outer 8 m\n",
      "inner 0 a\n",
      "inner 1 b\n",
      "inner 2 c\n",
      "inner 3 d\n",
      "inner 4 x\n",
      "inner 5 x\n",
      "inner 6 m\n",
      "duplicate found m 8 6\n",
      "inner 7 m\n",
      "duplicate found m 8 7\n"
     ]
    }
   ],
   "source": [
    "i=1\n",
    "while i<len(list):\n",
    "    print('outer',i, list[i])\n",
    "    j=0\n",
    "    while j<i:\n",
    "        print('inner',j, list[j])\n",
    "        if list[i]==list[j]:\n",
    "            print('duplicate found',list[i],i,j)\n",
    "        j+=1\n",
    "    i+=1"
   ]
  },
  {
   "cell_type": "code",
   "execution_count": null,
   "id": "august-width",
   "metadata": {},
   "outputs": [],
   "source": []
  }
 ],
 "metadata": {
  "kernelspec": {
   "display_name": "Python 3",
   "language": "python",
   "name": "python3"
  },
  "language_info": {
   "codemirror_mode": {
    "name": "ipython",
    "version": 3
   },
   "file_extension": ".py",
   "mimetype": "text/x-python",
   "name": "python",
   "nbconvert_exporter": "python",
   "pygments_lexer": "ipython3",
   "version": "3.8.5"
  }
 },
 "nbformat": 4,
 "nbformat_minor": 5
}
