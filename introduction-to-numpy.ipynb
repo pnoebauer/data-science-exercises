{
 "cells": [
  {
   "cell_type": "code",
   "execution_count": 214,
   "id": "african-thinking",
   "metadata": {},
   "outputs": [],
   "source": [
    "import numpy as np"
   ]
  },
  {
   "cell_type": "markdown",
   "id": "inappropriate-conditioning",
   "metadata": {},
   "source": [
    "## Datatypes & Attributes"
   ]
  },
  {
   "cell_type": "code",
   "execution_count": 215,
   "id": "committed-leave",
   "metadata": {},
   "outputs": [
    {
     "data": {
      "text/plain": [
       "array([1, 2, 3])"
      ]
     },
     "execution_count": 215,
     "metadata": {},
     "output_type": "execute_result"
    }
   ],
   "source": [
    "# Numpy's main datatype is ndarray\n",
    "a1 = np.array([1,2,3])\n",
    "a1"
   ]
  },
  {
   "cell_type": "code",
   "execution_count": 216,
   "id": "subject-endorsement",
   "metadata": {},
   "outputs": [
    {
     "data": {
      "text/plain": [
       "numpy.ndarray"
      ]
     },
     "execution_count": 216,
     "metadata": {},
     "output_type": "execute_result"
    }
   ],
   "source": [
    "type(a1)"
   ]
  },
  {
   "cell_type": "code",
   "execution_count": 217,
   "id": "listed-semiconductor",
   "metadata": {},
   "outputs": [],
   "source": [
    "a2 = np.array([[1, 2.0, 3.3],\n",
    "               [4, 5, 6.5]])\n",
    "\n",
    "a3 = np.array([[[1, 2, 3],\n",
    "                [4, 5, 6],\n",
    "                [7, 8, 9]],\n",
    "               [[10, 11, 12],\n",
    "                [13, 14, 15],\n",
    "                [16, 17, 18]]])"
   ]
  },
  {
   "cell_type": "code",
   "execution_count": 218,
   "id": "finite-taylor",
   "metadata": {},
   "outputs": [
    {
     "data": {
      "text/plain": [
       "array([[1. , 2. , 3.3],\n",
       "       [4. , 5. , 6.5]])"
      ]
     },
     "execution_count": 218,
     "metadata": {},
     "output_type": "execute_result"
    }
   ],
   "source": [
    "a2"
   ]
  },
  {
   "cell_type": "code",
   "execution_count": 219,
   "id": "closing-receipt",
   "metadata": {},
   "outputs": [
    {
     "data": {
      "text/plain": [
       "array([[[ 1,  2,  3],\n",
       "        [ 4,  5,  6],\n",
       "        [ 7,  8,  9]],\n",
       "\n",
       "       [[10, 11, 12],\n",
       "        [13, 14, 15],\n",
       "        [16, 17, 18]]])"
      ]
     },
     "execution_count": 219,
     "metadata": {},
     "output_type": "execute_result"
    }
   ],
   "source": [
    "a3"
   ]
  },
  {
   "cell_type": "code",
   "execution_count": 220,
   "id": "twelve-essay",
   "metadata": {},
   "outputs": [
    {
     "data": {
      "text/plain": [
       "(3,)"
      ]
     },
     "execution_count": 220,
     "metadata": {},
     "output_type": "execute_result"
    }
   ],
   "source": [
    "# shape: 1 row, 3 columns\n",
    "a1.shape"
   ]
  },
  {
   "cell_type": "code",
   "execution_count": 221,
   "id": "motivated-sellers",
   "metadata": {},
   "outputs": [
    {
     "data": {
      "text/plain": [
       "(2, 3)"
      ]
     },
     "execution_count": 221,
     "metadata": {},
     "output_type": "execute_result"
    }
   ],
   "source": [
    "# shape: 2 rows, 3 columns\n",
    "a2.shape"
   ]
  },
  {
   "cell_type": "code",
   "execution_count": 222,
   "id": "suffering-midnight",
   "metadata": {},
   "outputs": [
    {
     "data": {
      "text/plain": [
       "(2, 3, 3)"
      ]
     },
     "execution_count": 222,
     "metadata": {},
     "output_type": "execute_result"
    }
   ],
   "source": [
    "# shape: 2 rows, 3 columns, 3 depth\n",
    "a3.shape"
   ]
  },
  {
   "cell_type": "code",
   "execution_count": 223,
   "id": "fresh-certification",
   "metadata": {},
   "outputs": [
    {
     "data": {
      "text/plain": [
       "15"
      ]
     },
     "execution_count": 223,
     "metadata": {},
     "output_type": "execute_result"
    }
   ],
   "source": [
    "# shape works as follows:\n",
    "# brackets:\n",
    "#     outermost: arrays\n",
    "#     middle: rows\n",
    "#     innermost: columns\n",
    "\n",
    "# always start counting from the inside out\n",
    "\n",
    "# a3:\n",
    "# (2 arrays, 3 rows, 3 columns)\n",
    "\n",
    "# access 15 -> array #2, row #2, column #3\n",
    "\n",
    "a3[1][1][2]"
   ]
  },
  {
   "cell_type": "code",
   "execution_count": 224,
   "id": "radical-snowboard",
   "metadata": {},
   "outputs": [
    {
     "data": {
      "text/plain": [
       "(1, 2, 3)"
      ]
     },
     "execution_count": 224,
     "metadata": {},
     "output_type": "execute_result"
    }
   ],
   "source": [
    "# a1, a2, a3 dimensions\n",
    "a1.ndim, a2.ndim, a3.ndim"
   ]
  },
  {
   "cell_type": "code",
   "execution_count": 225,
   "id": "cleared-conclusion",
   "metadata": {},
   "outputs": [
    {
     "data": {
      "text/plain": [
       "(3, 6, 18)"
      ]
     },
     "execution_count": 225,
     "metadata": {},
     "output_type": "execute_result"
    }
   ],
   "source": [
    "# number of elements\n",
    "a1.size, a2.size, a3.size"
   ]
  },
  {
   "cell_type": "code",
   "execution_count": 226,
   "id": "figured-wayne",
   "metadata": {},
   "outputs": [
    {
     "data": {
      "text/plain": [
       "(numpy.ndarray, numpy.ndarray, numpy.ndarray)"
      ]
     },
     "execution_count": 226,
     "metadata": {},
     "output_type": "execute_result"
    }
   ],
   "source": [
    "type(a1), type(a2), type(a3)"
   ]
  },
  {
   "cell_type": "code",
   "execution_count": 227,
   "id": "sticky-graham",
   "metadata": {},
   "outputs": [
    {
     "data": {
      "text/html": [
       "<div>\n",
       "<style scoped>\n",
       "    .dataframe tbody tr th:only-of-type {\n",
       "        vertical-align: middle;\n",
       "    }\n",
       "\n",
       "    .dataframe tbody tr th {\n",
       "        vertical-align: top;\n",
       "    }\n",
       "\n",
       "    .dataframe thead th {\n",
       "        text-align: right;\n",
       "    }\n",
       "</style>\n",
       "<table border=\"1\" class=\"dataframe\">\n",
       "  <thead>\n",
       "    <tr style=\"text-align: right;\">\n",
       "      <th></th>\n",
       "      <th>0</th>\n",
       "      <th>1</th>\n",
       "      <th>2</th>\n",
       "    </tr>\n",
       "  </thead>\n",
       "  <tbody>\n",
       "    <tr>\n",
       "      <th>0</th>\n",
       "      <td>1.0</td>\n",
       "      <td>2.0</td>\n",
       "      <td>3.3</td>\n",
       "    </tr>\n",
       "    <tr>\n",
       "      <th>1</th>\n",
       "      <td>4.0</td>\n",
       "      <td>5.0</td>\n",
       "      <td>6.5</td>\n",
       "    </tr>\n",
       "  </tbody>\n",
       "</table>\n",
       "</div>"
      ],
      "text/plain": [
       "     0    1    2\n",
       "0  1.0  2.0  3.3\n",
       "1  4.0  5.0  6.5"
      ]
     },
     "execution_count": 227,
     "metadata": {},
     "output_type": "execute_result"
    }
   ],
   "source": [
    "# Create a dataframe from a NumPy array\n",
    "import pandas as pd\n",
    "\n",
    "df = pd.DataFrame(a2)\n",
    "df"
   ]
  },
  {
   "cell_type": "code",
   "execution_count": 228,
   "id": "agreed-treaty",
   "metadata": {},
   "outputs": [
    {
     "data": {
      "text/plain": [
       "array([[1. , 2. , 3.3],\n",
       "       [4. , 5. , 6.5]])"
      ]
     },
     "execution_count": 228,
     "metadata": {},
     "output_type": "execute_result"
    }
   ],
   "source": [
    "a2"
   ]
  },
  {
   "cell_type": "markdown",
   "id": "turned-place",
   "metadata": {},
   "source": [
    "## 2. Creating Arrays"
   ]
  },
  {
   "cell_type": "code",
   "execution_count": 229,
   "id": "casual-hebrew",
   "metadata": {},
   "outputs": [
    {
     "data": {
      "text/plain": [
       "array([[1., 1., 1.],\n",
       "       [1., 1., 1.]])"
      ]
     },
     "execution_count": 229,
     "metadata": {},
     "output_type": "execute_result"
    }
   ],
   "source": [
    "ones = np.ones((2,3))\n",
    "ones"
   ]
  },
  {
   "cell_type": "code",
   "execution_count": 230,
   "id": "interior-lottery",
   "metadata": {},
   "outputs": [
    {
     "data": {
      "text/plain": [
       "array([[0., 0., 0.],\n",
       "       [0., 0., 0.]])"
      ]
     },
     "execution_count": 230,
     "metadata": {},
     "output_type": "execute_result"
    }
   ],
   "source": [
    "zeros = np.zeros((2,3))\n",
    "zeros"
   ]
  },
  {
   "cell_type": "code",
   "execution_count": 231,
   "id": "negative-mexico",
   "metadata": {},
   "outputs": [
    {
     "data": {
      "text/plain": [
       "array([0, 2, 4, 6, 8])"
      ]
     },
     "execution_count": 231,
     "metadata": {},
     "output_type": "execute_result"
    }
   ],
   "source": [
    "# same as range but fills an array with the range\n",
    "range_array = np.arange(0, 10, 2)\n",
    "range_array"
   ]
  },
  {
   "cell_type": "code",
   "execution_count": 232,
   "id": "respective-savings",
   "metadata": {},
   "outputs": [
    {
     "data": {
      "text/plain": [
       "array([[5, 2, 4, 7, 6],\n",
       "       [8, 8, 1, 6, 7],\n",
       "       [7, 8, 1, 5, 9]])"
      ]
     },
     "execution_count": 232,
     "metadata": {},
     "output_type": "execute_result"
    }
   ],
   "source": [
    "random_array = np.random.randint(0,10,size=(3,5))\n",
    "random_array"
   ]
  },
  {
   "cell_type": "code",
   "execution_count": 233,
   "id": "reasonable-milton",
   "metadata": {},
   "outputs": [
    {
     "data": {
      "text/plain": [
       "15"
      ]
     },
     "execution_count": 233,
     "metadata": {},
     "output_type": "execute_result"
    }
   ],
   "source": [
    "random_array.size"
   ]
  },
  {
   "cell_type": "code",
   "execution_count": 234,
   "id": "judicial-diversity",
   "metadata": {},
   "outputs": [
    {
     "data": {
      "text/plain": [
       "(3, 5)"
      ]
     },
     "execution_count": 234,
     "metadata": {},
     "output_type": "execute_result"
    }
   ],
   "source": [
    "random_array.shape"
   ]
  },
  {
   "cell_type": "code",
   "execution_count": 235,
   "id": "wicked-pastor",
   "metadata": {},
   "outputs": [
    {
     "data": {
      "text/plain": [
       "array([[0.07103606, 0.0871293 , 0.0202184 ],\n",
       "       [0.83261985, 0.77815675, 0.87001215],\n",
       "       [0.97861834, 0.79915856, 0.46147936],\n",
       "       [0.78052918, 0.11827443, 0.63992102],\n",
       "       [0.14335329, 0.94466892, 0.52184832]])"
      ]
     },
     "execution_count": 235,
     "metadata": {},
     "output_type": "execute_result"
    }
   ],
   "source": [
    "random_array2 = np.random.random((5,3))\n",
    "random_array2"
   ]
  },
  {
   "cell_type": "code",
   "execution_count": 236,
   "id": "short-alert",
   "metadata": {},
   "outputs": [
    {
     "data": {
      "text/plain": [
       "(5, 3)"
      ]
     },
     "execution_count": 236,
     "metadata": {},
     "output_type": "execute_result"
    }
   ],
   "source": [
    "random_array2.shape"
   ]
  },
  {
   "cell_type": "code",
   "execution_count": 237,
   "id": "obvious-march",
   "metadata": {},
   "outputs": [
    {
     "data": {
      "text/plain": [
       "array([[0.41466194, 0.26455561, 0.77423369],\n",
       "       [0.45615033, 0.56843395, 0.0187898 ],\n",
       "       [0.6176355 , 0.61209572, 0.616934  ],\n",
       "       [0.94374808, 0.6818203 , 0.3595079 ],\n",
       "       [0.43703195, 0.6976312 , 0.06022547]])"
      ]
     },
     "execution_count": 237,
     "metadata": {},
     "output_type": "execute_result"
    }
   ],
   "source": [
    "# .rand is the same as .random, the only difference is that random takes args as tuple whereas rand as separate args\n",
    "random_array3 = np.random.rand(5,3)\n",
    "random_array3"
   ]
  },
  {
   "cell_type": "code",
   "execution_count": 238,
   "id": "arbitrary-assistant",
   "metadata": {},
   "outputs": [
    {
     "data": {
      "text/plain": [
       "array([[3, 6],\n",
       "       [6, 0],\n",
       "       [9, 8],\n",
       "       [4, 7],\n",
       "       [0, 0]])"
      ]
     },
     "execution_count": 238,
     "metadata": {},
     "output_type": "execute_result"
    }
   ],
   "source": [
    "# Pseudo-random numbers\n",
    "# Use seed so that random numbers are the same at every run\n",
    "np.random.seed(5)\n",
    "random_array4 = np.random.randint(0,10,size=(5,2))\n",
    "random_array4"
   ]
  },
  {
   "cell_type": "markdown",
   "id": "ranking-pilot",
   "metadata": {},
   "source": [
    "## 3. Viewing arrays and matrices"
   ]
  },
  {
   "cell_type": "code",
   "execution_count": 239,
   "id": "silent-assembly",
   "metadata": {},
   "outputs": [
    {
     "data": {
      "text/plain": [
       "array([[[ 1,  2,  3],\n",
       "        [ 4,  5,  6],\n",
       "        [ 7,  8,  9]],\n",
       "\n",
       "       [[10, 11, 12],\n",
       "        [13, 14, 15],\n",
       "        [16, 17, 18]]])"
      ]
     },
     "execution_count": 239,
     "metadata": {},
     "output_type": "execute_result"
    }
   ],
   "source": [
    "a3"
   ]
  },
  {
   "cell_type": "code",
   "execution_count": 240,
   "id": "designing-fellow",
   "metadata": {},
   "outputs": [
    {
     "data": {
      "text/plain": [
       "array([[1, 2, 3],\n",
       "       [4, 5, 6],\n",
       "       [7, 8, 9]])"
      ]
     },
     "execution_count": 240,
     "metadata": {},
     "output_type": "execute_result"
    }
   ],
   "source": [
    "a3[0]"
   ]
  },
  {
   "cell_type": "code",
   "execution_count": 241,
   "id": "descending-mathematics",
   "metadata": {},
   "outputs": [
    {
     "data": {
      "text/plain": [
       "array([[11, 12],\n",
       "       [14, 15],\n",
       "       [17, 18]])"
      ]
     },
     "execution_count": 241,
     "metadata": {},
     "output_type": "execute_result"
    }
   ],
   "source": [
    "# View the second and third column of the second array\n",
    "a3[1,:,1:]"
   ]
  },
  {
   "cell_type": "code",
   "execution_count": 242,
   "id": "capable-integral",
   "metadata": {},
   "outputs": [
    {
     "data": {
      "text/plain": [
       "array([[ 7,  8,  9],\n",
       "       [16, 17, 18]])"
      ]
     },
     "execution_count": 242,
     "metadata": {},
     "output_type": "execute_result"
    }
   ],
   "source": [
    "# View the last row of all arrays\n",
    "a3[:,2,:]"
   ]
  },
  {
   "cell_type": "code",
   "execution_count": 243,
   "id": "shared-arizona",
   "metadata": {},
   "outputs": [
    {
     "data": {
      "text/plain": [
       "array([[[ 1,  2],\n",
       "        [ 4,  5]],\n",
       "\n",
       "       [[10, 11],\n",
       "        [13, 14]]])"
      ]
     },
     "execution_count": 243,
     "metadata": {},
     "output_type": "execute_result"
    }
   ],
   "source": [
    "# View the top 2 quadrant of each array\n",
    "a3[:,:2,:2]"
   ]
  },
  {
   "cell_type": "code",
   "execution_count": 244,
   "id": "copyrighted-request",
   "metadata": {},
   "outputs": [
    {
     "data": {
      "text/plain": [
       "array([[ 8,  9],\n",
       "       [17, 18]])"
      ]
     },
     "execution_count": 244,
     "metadata": {},
     "output_type": "execute_result"
    }
   ],
   "source": [
    "#View the last 2 cells of each array\n",
    "a3[:,-1,-2:]"
   ]
  },
  {
   "cell_type": "code",
   "execution_count": 245,
   "id": "genetic-parcel",
   "metadata": {},
   "outputs": [
    {
     "data": {
      "text/plain": [
       "array([[[ 5,  6],\n",
       "        [ 8,  9]],\n",
       "\n",
       "       [[14, 15],\n",
       "        [17, 18]]])"
      ]
     },
     "execution_count": 245,
     "metadata": {},
     "output_type": "execute_result"
    }
   ],
   "source": [
    "#View the last 2 cells and rows of each array\n",
    "a3[:,-2:,-2:]"
   ]
  },
  {
   "cell_type": "code",
   "execution_count": 246,
   "id": "welsh-billy",
   "metadata": {},
   "outputs": [
    {
     "data": {
      "text/plain": [
       "array([[[[8, 9, 3, 8, 8],\n",
       "         [0, 5, 3, 9, 9],\n",
       "         [5, 7, 6, 0, 4],\n",
       "         [7, 8, 1, 6, 2]],\n",
       "\n",
       "        [[2, 1, 3, 5, 8],\n",
       "         [1, 8, 7, 8, 1],\n",
       "         [0, 5, 4, 1, 5],\n",
       "         [4, 7, 6, 0, 0]],\n",
       "\n",
       "        [[9, 2, 4, 5, 8],\n",
       "         [8, 7, 5, 1, 1],\n",
       "         [1, 5, 5, 7, 4],\n",
       "         [3, 0, 0, 0, 0]]],\n",
       "\n",
       "\n",
       "       [[[2, 2, 7, 0, 5],\n",
       "         [0, 1, 4, 1, 2],\n",
       "         [2, 4, 8, 0, 6],\n",
       "         [0, 4, 1, 5, 1]],\n",
       "\n",
       "        [[8, 8, 7, 0, 0],\n",
       "         [9, 1, 7, 8, 7],\n",
       "         [4, 0, 0, 4, 3],\n",
       "         [0, 8, 2, 7, 2]],\n",
       "\n",
       "        [[1, 3, 2, 4, 1],\n",
       "         [2, 2, 7, 3, 4],\n",
       "         [1, 6, 7, 9, 1],\n",
       "         [0, 0, 5, 8, 4]]]])"
      ]
     },
     "execution_count": 246,
     "metadata": {},
     "output_type": "execute_result"
    }
   ],
   "source": [
    "np.random.seed(3)\n",
    "a4 = np.random.randint(10, size=(2,3,4,5))\n",
    "a4"
   ]
  },
  {
   "cell_type": "code",
   "execution_count": 247,
   "id": "straight-invention",
   "metadata": {},
   "outputs": [
    {
     "data": {
      "text/plain": [
       "9"
      ]
     },
     "execution_count": 247,
     "metadata": {},
     "output_type": "execute_result"
    }
   ],
   "source": [
    "# View the element from the second last row and column of the last array; ==> 9\n",
    "a4[-1][-1][-2][-2]"
   ]
  },
  {
   "cell_type": "code",
   "execution_count": 248,
   "id": "correct-advertising",
   "metadata": {},
   "outputs": [
    {
     "data": {
      "text/plain": [
       "array([[1, 7, 8],\n",
       "       [0, 0, 4],\n",
       "       [8, 2, 7]])"
      ]
     },
     "execution_count": 248,
     "metadata": {},
     "output_type": "execute_result"
    }
   ],
   "source": [
    "# View the bottom, middle 3x3 array from the last outer array's middle array; ==> [[1,7,8],[0,0,4],[8,2,7]]\n",
    "a4[-1,1,1:,1:-1]"
   ]
  },
  {
   "cell_type": "code",
   "execution_count": 249,
   "id": "varying-confirmation",
   "metadata": {},
   "outputs": [
    {
     "data": {
      "text/plain": [
       "((2, 3, 4, 5), 120)"
      ]
     },
     "execution_count": 249,
     "metadata": {},
     "output_type": "execute_result"
    }
   ],
   "source": [
    "a4.shape, a4.size"
   ]
  },
  {
   "cell_type": "code",
   "execution_count": 250,
   "id": "genuine-width",
   "metadata": {},
   "outputs": [
    {
     "data": {
      "text/plain": [
       "array([[[[8, 9, 3, 8],\n",
       "         [0, 5, 3, 9],\n",
       "         [5, 7, 6, 0],\n",
       "         [7, 8, 1, 6]],\n",
       "\n",
       "        [[2, 1, 3, 5],\n",
       "         [1, 8, 7, 8],\n",
       "         [0, 5, 4, 1],\n",
       "         [4, 7, 6, 0]],\n",
       "\n",
       "        [[9, 2, 4, 5],\n",
       "         [8, 7, 5, 1],\n",
       "         [1, 5, 5, 7],\n",
       "         [3, 0, 0, 0]]],\n",
       "\n",
       "\n",
       "       [[[2, 2, 7, 0],\n",
       "         [0, 1, 4, 1],\n",
       "         [2, 4, 8, 0],\n",
       "         [0, 4, 1, 5]],\n",
       "\n",
       "        [[8, 8, 7, 0],\n",
       "         [9, 1, 7, 8],\n",
       "         [4, 0, 0, 4],\n",
       "         [0, 8, 2, 7]],\n",
       "\n",
       "        [[1, 3, 2, 4],\n",
       "         [2, 2, 7, 3],\n",
       "         [1, 6, 7, 9],\n",
       "         [0, 0, 5, 8]]]])"
      ]
     },
     "execution_count": 250,
     "metadata": {},
     "output_type": "execute_result"
    }
   ],
   "source": [
    "# Get the first 4 numbers of each array\n",
    "a4[:,:,:,:4]"
   ]
  },
  {
   "cell_type": "markdown",
   "id": "excessive-surrey",
   "metadata": {},
   "source": [
    "## 4. Manipulating & comparing arrays"
   ]
  },
  {
   "cell_type": "markdown",
   "id": "valued-voltage",
   "metadata": {},
   "source": [
    "### Arithmetic"
   ]
  },
  {
   "cell_type": "code",
   "execution_count": 251,
   "id": "confused-landscape",
   "metadata": {},
   "outputs": [
    {
     "data": {
      "text/plain": [
       "array([1, 2, 3])"
      ]
     },
     "execution_count": 251,
     "metadata": {},
     "output_type": "execute_result"
    }
   ],
   "source": [
    "a1"
   ]
  },
  {
   "cell_type": "code",
   "execution_count": 252,
   "id": "caroline-jacket",
   "metadata": {},
   "outputs": [
    {
     "data": {
      "text/plain": [
       "array([[1., 1., 1.],\n",
       "       [1., 1., 1.]])"
      ]
     },
     "execution_count": 252,
     "metadata": {},
     "output_type": "execute_result"
    }
   ],
   "source": [
    "ones"
   ]
  },
  {
   "cell_type": "code",
   "execution_count": 253,
   "id": "closed-immune",
   "metadata": {},
   "outputs": [
    {
     "data": {
      "text/plain": [
       "array([[2., 3., 4.],\n",
       "       [2., 3., 4.]])"
      ]
     },
     "execution_count": 253,
     "metadata": {},
     "output_type": "execute_result"
    }
   ],
   "source": [
    "a1 + ones"
   ]
  },
  {
   "cell_type": "code",
   "execution_count": 254,
   "id": "opened-glossary",
   "metadata": {},
   "outputs": [
    {
     "data": {
      "text/plain": [
       "array([[0., 1., 2.],\n",
       "       [0., 1., 2.]])"
      ]
     },
     "execution_count": 254,
     "metadata": {},
     "output_type": "execute_result"
    }
   ],
   "source": [
    "a1 - ones"
   ]
  },
  {
   "cell_type": "code",
   "execution_count": 255,
   "id": "olympic-jacob",
   "metadata": {},
   "outputs": [
    {
     "data": {
      "text/plain": [
       "array([[1., 2., 3.],\n",
       "       [1., 2., 3.]])"
      ]
     },
     "execution_count": 255,
     "metadata": {},
     "output_type": "execute_result"
    }
   ],
   "source": [
    "a1 * ones"
   ]
  },
  {
   "cell_type": "code",
   "execution_count": 256,
   "id": "weird-environment",
   "metadata": {},
   "outputs": [
    {
     "data": {
      "text/plain": [
       "array([[1. , 2. , 3.3],\n",
       "       [4. , 5. , 6.5]])"
      ]
     },
     "execution_count": 256,
     "metadata": {},
     "output_type": "execute_result"
    }
   ],
   "source": [
    "a2"
   ]
  },
  {
   "cell_type": "code",
   "execution_count": 257,
   "id": "healthy-peoples",
   "metadata": {},
   "outputs": [
    {
     "data": {
      "text/plain": [
       "array([[0. , 1. , 2.3],\n",
       "       [3. , 4. , 5.5]])"
      ]
     },
     "execution_count": 257,
     "metadata": {},
     "output_type": "execute_result"
    }
   ],
   "source": [
    "a2 - ones"
   ]
  },
  {
   "cell_type": "code",
   "execution_count": 258,
   "id": "accompanied-scottish",
   "metadata": {},
   "outputs": [
    {
     "data": {
      "text/plain": [
       "array([[1., 2., 3.],\n",
       "       [4., 5., 6.]])"
      ]
     },
     "execution_count": 258,
     "metadata": {},
     "output_type": "execute_result"
    }
   ],
   "source": [
    "# floor division\n",
    "a2 // ones"
   ]
  },
  {
   "cell_type": "code",
   "execution_count": 259,
   "id": "brief-astrology",
   "metadata": {},
   "outputs": [
    {
     "data": {
      "text/plain": [
       "array([[0., 0., 0.],\n",
       "       [0., 0., 0.]])"
      ]
     },
     "execution_count": 259,
     "metadata": {},
     "output_type": "execute_result"
    }
   ],
   "source": [
    "a2 * zeros"
   ]
  },
  {
   "cell_type": "code",
   "execution_count": 260,
   "id": "enhanced-alarm",
   "metadata": {},
   "outputs": [
    {
     "data": {
      "text/plain": [
       "array([[ 1. ,  4. ,  9.9],\n",
       "       [ 4. , 10. , 19.5]])"
      ]
     },
     "execution_count": 260,
     "metadata": {},
     "output_type": "execute_result"
    }
   ],
   "source": [
    "a1 * a2"
   ]
  },
  {
   "cell_type": "code",
   "execution_count": 261,
   "id": "advance-testing",
   "metadata": {},
   "outputs": [
    {
     "data": {
      "text/plain": [
       "array([1, 2, 3])"
      ]
     },
     "execution_count": 261,
     "metadata": {},
     "output_type": "execute_result"
    }
   ],
   "source": [
    "a1"
   ]
  },
  {
   "cell_type": "code",
   "execution_count": 262,
   "id": "undefined-latino",
   "metadata": {},
   "outputs": [
    {
     "data": {
      "text/plain": [
       "array([[1. , 2. , 3.3],\n",
       "       [4. , 5. , 6.5]])"
      ]
     },
     "execution_count": 262,
     "metadata": {},
     "output_type": "execute_result"
    }
   ],
   "source": [
    "a2"
   ]
  },
  {
   "cell_type": "code",
   "execution_count": 263,
   "id": "express-plenty",
   "metadata": {},
   "outputs": [
    {
     "data": {
      "text/plain": [
       "array([[[ 1,  4,  9],\n",
       "        [ 4, 10, 18],\n",
       "        [ 7, 16, 27]],\n",
       "\n",
       "       [[10, 22, 36],\n",
       "        [13, 28, 45],\n",
       "        [16, 34, 54]]])"
      ]
     },
     "execution_count": 263,
     "metadata": {},
     "output_type": "execute_result"
    }
   ],
   "source": [
    "a1 * a3"
   ]
  },
  {
   "cell_type": "code",
   "execution_count": 264,
   "id": "backed-chart",
   "metadata": {},
   "outputs": [
    {
     "data": {
      "text/plain": [
       "array([[[ 1,  2,  3],\n",
       "        [ 4,  5,  6],\n",
       "        [ 7,  8,  9]],\n",
       "\n",
       "       [[10, 11, 12],\n",
       "        [13, 14, 15],\n",
       "        [16, 17, 18]]])"
      ]
     },
     "execution_count": 264,
     "metadata": {},
     "output_type": "execute_result"
    }
   ],
   "source": [
    "a3"
   ]
  },
  {
   "cell_type": "code",
   "execution_count": 265,
   "id": "manufactured-dollar",
   "metadata": {},
   "outputs": [],
   "source": [
    "# a2 * a3 won't work due to incompatible shapes"
   ]
  },
  {
   "cell_type": "markdown",
   "id": "public-group",
   "metadata": {},
   "source": [
    "#### Broadcasting rules:\n",
    "When operating on two arrays, NumPy compares their shapes element-wise. \n",
    "It starts with the trailing dimensions and works its way forward. Two dimensions are compatible when:\n",
    "\n",
    "1) they are equal, or\n",
    "\n",
    "2) one of them is 1"
   ]
  },
  {
   "cell_type": "code",
   "execution_count": 266,
   "id": "induced-liabilities",
   "metadata": {},
   "outputs": [],
   "source": [
    "# Example that works:\n",
    "# Image  (3d array): 256 x 256 x 3\n",
    "# Scale  (1d array):             3\n",
    "# Result (3d array): 256 x 256 x 3"
   ]
  },
  {
   "cell_type": "markdown",
   "id": "warming-lighter",
   "metadata": {},
   "source": [
    "#### Reshaping so that broadcasting works\n",
    "![](numpy-manipulation-reshape-function-image-1.png)"
   ]
  },
  {
   "cell_type": "code",
   "execution_count": 267,
   "id": "quiet-poetry",
   "metadata": {},
   "outputs": [
    {
     "data": {
      "text/plain": [
       "((2, 3), (2, 3, 3))"
      ]
     },
     "execution_count": 267,
     "metadata": {},
     "output_type": "execute_result"
    }
   ],
   "source": [
    "a2.shape, a3.shape"
   ]
  },
  {
   "cell_type": "code",
   "execution_count": 268,
   "id": "assumed-justice",
   "metadata": {},
   "outputs": [
    {
     "data": {
      "text/plain": [
       "array([[1. , 2. , 3.3],\n",
       "       [4. , 5. , 6.5]])"
      ]
     },
     "execution_count": 268,
     "metadata": {},
     "output_type": "execute_result"
    }
   ],
   "source": [
    "a2"
   ]
  },
  {
   "cell_type": "code",
   "execution_count": 269,
   "id": "exterior-summer",
   "metadata": {},
   "outputs": [
    {
     "data": {
      "text/plain": [
       "array([[1. , 2. ],\n",
       "       [3.3, 4. ],\n",
       "       [5. , 6.5]])"
      ]
     },
     "execution_count": 269,
     "metadata": {},
     "output_type": "execute_result"
    }
   ],
   "source": [
    "np.reshape(a2,(3,2))"
   ]
  },
  {
   "cell_type": "code",
   "execution_count": 270,
   "id": "continued-county",
   "metadata": {},
   "outputs": [
    {
     "data": {
      "text/plain": [
       "array([[[1. ],\n",
       "        [2. ],\n",
       "        [3.3]],\n",
       "\n",
       "       [[4. ],\n",
       "        [5. ],\n",
       "        [6.5]]])"
      ]
     },
     "execution_count": 270,
     "metadata": {},
     "output_type": "execute_result"
    }
   ],
   "source": [
    "np.reshape(a2,(2,3,1))"
   ]
  },
  {
   "cell_type": "code",
   "execution_count": 271,
   "id": "affected-trading",
   "metadata": {},
   "outputs": [
    {
     "data": {
      "text/plain": [
       "array([[[  1. ,   2. ,   3. ],\n",
       "        [  8. ,  10. ,  12. ],\n",
       "        [ 23.1,  26.4,  29.7]],\n",
       "\n",
       "       [[ 40. ,  44. ,  48. ],\n",
       "        [ 65. ,  70. ,  75. ],\n",
       "        [104. , 110.5, 117. ]]])"
      ]
     },
     "execution_count": 271,
     "metadata": {},
     "output_type": "execute_result"
    }
   ],
   "source": [
    "a3 * np.reshape(a2,(2,3,1))"
   ]
  },
  {
   "cell_type": "markdown",
   "id": "breeding-thermal",
   "metadata": {},
   "source": [
    "### Aggregation\n",
    "Aggregation = performing the same operation on a number of things"
   ]
  },
  {
   "cell_type": "code",
   "execution_count": 272,
   "id": "cardiovascular-spanking",
   "metadata": {},
   "outputs": [
    {
     "data": {
      "text/plain": [
       "[1, 2, 3]"
      ]
     },
     "execution_count": 272,
     "metadata": {},
     "output_type": "execute_result"
    }
   ],
   "source": [
    "listy_list = [1,2,3]\n",
    "listy_list"
   ]
  },
  {
   "cell_type": "code",
   "execution_count": 273,
   "id": "removable-sharp",
   "metadata": {},
   "outputs": [
    {
     "data": {
      "text/plain": [
       "list"
      ]
     },
     "execution_count": 273,
     "metadata": {},
     "output_type": "execute_result"
    }
   ],
   "source": [
    "type(listy_list)"
   ]
  },
  {
   "cell_type": "code",
   "execution_count": 274,
   "id": "nearby-petersburg",
   "metadata": {},
   "outputs": [
    {
     "data": {
      "text/plain": [
       "6"
      ]
     },
     "execution_count": 274,
     "metadata": {},
     "output_type": "execute_result"
    }
   ],
   "source": [
    "sum(listy_list)"
   ]
  },
  {
   "cell_type": "code",
   "execution_count": 275,
   "id": "invisible-jungle",
   "metadata": {},
   "outputs": [
    {
     "data": {
      "text/plain": [
       "6"
      ]
     },
     "execution_count": 275,
     "metadata": {},
     "output_type": "execute_result"
    }
   ],
   "source": [
    "np.sum(listy_list)"
   ]
  },
  {
   "cell_type": "code",
   "execution_count": 276,
   "id": "adverse-visibility",
   "metadata": {},
   "outputs": [
    {
     "data": {
      "text/plain": [
       "array([1, 2, 3])"
      ]
     },
     "execution_count": 276,
     "metadata": {},
     "output_type": "execute_result"
    }
   ],
   "source": [
    "a1"
   ]
  },
  {
   "cell_type": "code",
   "execution_count": 277,
   "id": "dirty-cleaners",
   "metadata": {},
   "outputs": [
    {
     "data": {
      "text/plain": [
       "6"
      ]
     },
     "execution_count": 277,
     "metadata": {},
     "output_type": "execute_result"
    }
   ],
   "source": [
    "sum(listy_list)"
   ]
  },
  {
   "cell_type": "code",
   "execution_count": 278,
   "id": "quarterly-announcement",
   "metadata": {},
   "outputs": [
    {
     "data": {
      "text/plain": [
       "6"
      ]
     },
     "execution_count": 278,
     "metadata": {},
     "output_type": "execute_result"
    }
   ],
   "source": [
    "np.sum(a1)"
   ]
  },
  {
   "cell_type": "markdown",
   "id": "continental-grocery",
   "metadata": {},
   "source": [
    "Use Python's methods (`sum()`) on Python datatypes and use NumPy's methods on NumPy arrays(`np.sum()`)"
   ]
  },
  {
   "cell_type": "code",
   "execution_count": 279,
   "id": "distinct-payday",
   "metadata": {},
   "outputs": [
    {
     "data": {
      "text/plain": [
       "10000000"
      ]
     },
     "execution_count": 279,
     "metadata": {},
     "output_type": "execute_result"
    }
   ],
   "source": [
    "# Create a massive NumPy array\n",
    "massive_array = np.random.random(10000000)\n",
    "massive_array.size"
   ]
  },
  {
   "cell_type": "code",
   "execution_count": 280,
   "id": "dimensional-chinese",
   "metadata": {},
   "outputs": [
    {
     "data": {
      "text/plain": [
       "array([0.34992523, 0.77273869, 0.89649666, 0.78573034, 0.28340737,\n",
       "       0.88190845, 0.54538261, 0.82802212, 0.23369201, 0.20287765])"
      ]
     },
     "execution_count": 280,
     "metadata": {},
     "output_type": "execute_result"
    }
   ],
   "source": [
    "massive_array[:10]"
   ]
  },
  {
   "cell_type": "code",
   "execution_count": 281,
   "id": "numerous-click",
   "metadata": {},
   "outputs": [
    {
     "name": "stdout",
     "output_type": "stream",
     "text": [
      "2.36 s ± 540 ms per loop (mean ± std. dev. of 7 runs, 1 loop each)\n",
      "4.88 ms ± 345 µs per loop (mean ± std. dev. of 7 runs, 100 loops each)\n"
     ]
    }
   ],
   "source": [
    "%timeit sum(massive_array) # Python's sum\n",
    "%timeit np.sum(massive_array) # NumPy's sum"
   ]
  },
  {
   "cell_type": "code",
   "execution_count": 282,
   "id": "harmful-adoption",
   "metadata": {},
   "outputs": [
    {
     "data": {
      "text/plain": [
       "398.9637305699482"
      ]
     },
     "execution_count": 282,
     "metadata": {},
     "output_type": "execute_result"
    }
   ],
   "source": [
    "# Time difference\n",
    "2.31*1000 / 5.79"
   ]
  },
  {
   "cell_type": "code",
   "execution_count": 283,
   "id": "bibliographic-lancaster",
   "metadata": {},
   "outputs": [
    {
     "data": {
      "text/plain": [
       "10000000"
      ]
     },
     "execution_count": 283,
     "metadata": {},
     "output_type": "execute_result"
    }
   ],
   "source": [
    "# Create a massive Python list\n",
    "massive_list = list(range(10000000))\n",
    "len(massive_list)"
   ]
  },
  {
   "cell_type": "code",
   "execution_count": 284,
   "id": "declared-portsmouth",
   "metadata": {},
   "outputs": [
    {
     "name": "stdout",
     "output_type": "stream",
     "text": [
      "61.9 ms ± 958 µs per loop (mean ± std. dev. of 7 runs, 10 loops each)\n",
      "689 ms ± 17.6 ms per loop (mean ± std. dev. of 7 runs, 1 loop each)\n"
     ]
    }
   ],
   "source": [
    "%timeit sum(massive_list) # Python's sum\n",
    "%timeit np.sum(massive_list) # NumPy's sum"
   ]
  },
  {
   "cell_type": "code",
   "execution_count": 285,
   "id": "usual-legislature",
   "metadata": {},
   "outputs": [
    {
     "data": {
      "text/plain": [
       "array([[1. , 2. , 3.3],\n",
       "       [4. , 5. , 6.5]])"
      ]
     },
     "execution_count": 285,
     "metadata": {},
     "output_type": "execute_result"
    }
   ],
   "source": [
    "a2"
   ]
  },
  {
   "cell_type": "code",
   "execution_count": 286,
   "id": "constitutional-morocco",
   "metadata": {},
   "outputs": [
    {
     "data": {
      "text/plain": [
       "3.6333333333333333"
      ]
     },
     "execution_count": 286,
     "metadata": {},
     "output_type": "execute_result"
    }
   ],
   "source": [
    "np.mean(a2)"
   ]
  },
  {
   "cell_type": "code",
   "execution_count": 287,
   "id": "standing-designer",
   "metadata": {},
   "outputs": [
    {
     "data": {
      "text/plain": [
       "(1.0, 6.5, 3.3222222222222224, 1.8226964152656422)"
      ]
     },
     "execution_count": 287,
     "metadata": {},
     "output_type": "execute_result"
    }
   ],
   "source": [
    "np.min(a2), np.max(a2), np.var(a2), np.std(a2)"
   ]
  },
  {
   "cell_type": "code",
   "execution_count": 288,
   "id": "detected-cooling",
   "metadata": {},
   "outputs": [
    {
     "data": {
      "text/plain": [
       "(1.8226964152656422, 1.8226964152656422)"
      ]
     },
     "execution_count": 288,
     "metadata": {},
     "output_type": "execute_result"
    }
   ],
   "source": [
    "np.sqrt(np.var(a2)), np.std(a2)"
   ]
  },
  {
   "cell_type": "code",
   "execution_count": 289,
   "id": "rental-justice",
   "metadata": {},
   "outputs": [],
   "source": [
    "# Demo of std and var\n",
    "high_var_array = np.array([1, 100, 200, 300, 4000, 5000])\n",
    "low_var_array = np.array([0, 2, 4, 6, 8, 10])"
   ]
  },
  {
   "cell_type": "code",
   "execution_count": 291,
   "id": "bottom-perfume",
   "metadata": {},
   "outputs": [],
   "source": [
    "%matplotlib inline\n",
    "import matplotlib.pyplot as plt"
   ]
  },
  {
   "cell_type": "code",
   "execution_count": null,
   "id": "finnish-client",
   "metadata": {},
   "outputs": [],
   "source": [
    "plt.hist(high_var_array)\n",
    "plt.show() # without this plot might not be shown and data will be shown"
   ]
  },
  {
   "cell_type": "code",
   "execution_count": null,
   "id": "exciting-behalf",
   "metadata": {},
   "outputs": [],
   "source": [
    "plt.hist(low_var_array)\n",
    "plt.show()"
   ]
  },
  {
   "cell_type": "code",
   "execution_count": null,
   "id": "weekly-hello",
   "metadata": {},
   "outputs": [],
   "source": [
    "np.mean(low_var_array), np.mean(high_var_array)"
   ]
  },
  {
   "cell_type": "code",
   "execution_count": null,
   "id": "perfect-batch",
   "metadata": {},
   "outputs": [],
   "source": [
    "np.std(low_var_array), np.std(high_var_array)"
   ]
  },
  {
   "cell_type": "code",
   "execution_count": null,
   "id": "prostate-consultation",
   "metadata": {},
   "outputs": [],
   "source": [
    "np.var(low_var_array), np.var(high_var_array)"
   ]
  },
  {
   "cell_type": "code",
   "execution_count": null,
   "id": "subsequent-brooklyn",
   "metadata": {},
   "outputs": [],
   "source": [
    "np.min(low_var_array), np.min(high_var_array)"
   ]
  },
  {
   "cell_type": "code",
   "execution_count": null,
   "id": "stone-drill",
   "metadata": {},
   "outputs": [],
   "source": [
    "np.max(low_var_array), np.max(high_var_array)"
   ]
  },
  {
   "cell_type": "markdown",
   "id": "regulation-tuesday",
   "metadata": {},
   "source": [
    "### Reshaping & transposing"
   ]
  },
  {
   "cell_type": "code",
   "execution_count": null,
   "id": "occasional-tomorrow",
   "metadata": {},
   "outputs": [],
   "source": [
    "a2.shape"
   ]
  },
  {
   "cell_type": "code",
   "execution_count": null,
   "id": "improving-guard",
   "metadata": {},
   "outputs": [],
   "source": [
    "a3.shape"
   ]
  },
  {
   "cell_type": "code",
   "execution_count": null,
   "id": "changed-residence",
   "metadata": {},
   "outputs": [],
   "source": [
    "a2_reshape = a2.reshape((2,3,1))\n",
    "a2_reshape.shape"
   ]
  },
  {
   "cell_type": "code",
   "execution_count": null,
   "id": "desirable-airplane",
   "metadata": {},
   "outputs": [],
   "source": [
    "a2_reshape*a3"
   ]
  },
  {
   "cell_type": "code",
   "execution_count": null,
   "id": "exceptional-pattern",
   "metadata": {},
   "outputs": [],
   "source": [
    "# Transpose: switches axises; reverses order of axis\n",
    "# indexing: a_matrix_row_column becomes a_column_row_matrix"
   ]
  },
  {
   "cell_type": "code",
   "execution_count": null,
   "id": "superb-drawing",
   "metadata": {},
   "outputs": [],
   "source": [
    "a2"
   ]
  },
  {
   "cell_type": "code",
   "execution_count": null,
   "id": "virtual-endorsement",
   "metadata": {},
   "outputs": [],
   "source": [
    "a2.T"
   ]
  },
  {
   "cell_type": "code",
   "execution_count": null,
   "id": "unauthorized-lecture",
   "metadata": {},
   "outputs": [],
   "source": [
    "a2.T.shape, a2.shape"
   ]
  },
  {
   "cell_type": "code",
   "execution_count": null,
   "id": "neutral-frost",
   "metadata": {},
   "outputs": [],
   "source": [
    "a3.T.shape, a3.shape"
   ]
  },
  {
   "cell_type": "code",
   "execution_count": null,
   "id": "altered-advertiser",
   "metadata": {},
   "outputs": [],
   "source": [
    "a3"
   ]
  },
  {
   "cell_type": "code",
   "execution_count": null,
   "id": "imperial-peter",
   "metadata": {},
   "outputs": [],
   "source": [
    "a3.T"
   ]
  },
  {
   "cell_type": "code",
   "execution_count": null,
   "id": "strong-basement",
   "metadata": {},
   "outputs": [],
   "source": [
    "# element 100 => 001 (matrix 1, row 0, column 0 => matrix 0, row 0, column 1)\n",
    "# element 112 => 211 (matrix 1, row 1, column 2 => matrix 2, row 1, column 1)"
   ]
  },
  {
   "cell_type": "markdown",
   "id": "thrown-international",
   "metadata": {},
   "source": [
    "## Dot product\n",
    "![](dot-product.png)"
   ]
  },
  {
   "cell_type": "code",
   "execution_count": null,
   "id": "lasting-probe",
   "metadata": {},
   "outputs": [],
   "source": [
    "np.random.seed(0)\n",
    "\n",
    "mat1 = np.random.randint(10, size=(5,3))\n",
    "mat2 = np.random.randint(10, size=(5,3))\n",
    "\n",
    "mat1, mat2"
   ]
  },
  {
   "cell_type": "code",
   "execution_count": null,
   "id": "numeric-catalyst",
   "metadata": {},
   "outputs": [],
   "source": [
    "# Element-wise multiplication (Hadamard product)\n",
    "mat1 * mat2"
   ]
  },
  {
   "cell_type": "code",
   "execution_count": null,
   "id": "clean-beauty",
   "metadata": {},
   "outputs": [],
   "source": [
    "mat1.shape, mat2.shape"
   ]
  },
  {
   "cell_type": "code",
   "execution_count": null,
   "id": "appointed-candidate",
   "metadata": {},
   "outputs": [],
   "source": [
    "mat2_reshape = mat2.reshape((3,5))\n",
    "mat2_reshape"
   ]
  },
  {
   "cell_type": "code",
   "execution_count": null,
   "id": "recognized-utility",
   "metadata": {},
   "outputs": [],
   "source": [
    "mat1"
   ]
  },
  {
   "cell_type": "code",
   "execution_count": null,
   "id": "electronic-prime",
   "metadata": {},
   "outputs": [],
   "source": [
    "# Dot product: dimensions on the inside (last dimension first product and first dimension last product) must match\n",
    "np.dot(mat1, mat2_reshape)"
   ]
  },
  {
   "cell_type": "code",
   "execution_count": null,
   "id": "engaging-basis",
   "metadata": {},
   "outputs": [],
   "source": [
    "mat2.T"
   ]
  },
  {
   "cell_type": "code",
   "execution_count": null,
   "id": "adopted-amount",
   "metadata": {},
   "outputs": [],
   "source": [
    "np.dot(mat1, mat2.T)"
   ]
  },
  {
   "cell_type": "markdown",
   "id": "widespread-instrumentation",
   "metadata": {},
   "source": [
    "## Dot product example"
   ]
  },
  {
   "cell_type": "code",
   "execution_count": 332,
   "id": "working-relation",
   "metadata": {},
   "outputs": [
    {
     "data": {
      "text/plain": [
       "array([[ 3, 14, 15],\n",
       "       [ 6, 16,  9],\n",
       "       [ 8,  4,  7],\n",
       "       [16, 16,  7],\n",
       "       [12, 15, 17]])"
      ]
     },
     "execution_count": 332,
     "metadata": {},
     "output_type": "execute_result"
    }
   ],
   "source": [
    "np.random.seed(5)\n",
    "sales = np.random.randint(20, size=(5,3))\n",
    "sales"
   ]
  },
  {
   "cell_type": "code",
   "execution_count": 333,
   "id": "comprehensive-moldova",
   "metadata": {},
   "outputs": [
    {
     "data": {
      "text/html": [
       "<div>\n",
       "<style scoped>\n",
       "    .dataframe tbody tr th:only-of-type {\n",
       "        vertical-align: middle;\n",
       "    }\n",
       "\n",
       "    .dataframe tbody tr th {\n",
       "        vertical-align: top;\n",
       "    }\n",
       "\n",
       "    .dataframe thead th {\n",
       "        text-align: right;\n",
       "    }\n",
       "</style>\n",
       "<table border=\"1\" class=\"dataframe\">\n",
       "  <thead>\n",
       "    <tr style=\"text-align: right;\">\n",
       "      <th></th>\n",
       "      <th>Almond Butter</th>\n",
       "      <th>Peanut Butter</th>\n",
       "      <th>Cashew Butter</th>\n",
       "    </tr>\n",
       "  </thead>\n",
       "  <tbody>\n",
       "    <tr>\n",
       "      <th>Monday</th>\n",
       "      <td>3</td>\n",
       "      <td>14</td>\n",
       "      <td>15</td>\n",
       "    </tr>\n",
       "    <tr>\n",
       "      <th>Tuesday</th>\n",
       "      <td>6</td>\n",
       "      <td>16</td>\n",
       "      <td>9</td>\n",
       "    </tr>\n",
       "    <tr>\n",
       "      <th>Wednesday</th>\n",
       "      <td>8</td>\n",
       "      <td>4</td>\n",
       "      <td>7</td>\n",
       "    </tr>\n",
       "    <tr>\n",
       "      <th>Thursday</th>\n",
       "      <td>16</td>\n",
       "      <td>16</td>\n",
       "      <td>7</td>\n",
       "    </tr>\n",
       "    <tr>\n",
       "      <th>Friday</th>\n",
       "      <td>12</td>\n",
       "      <td>15</td>\n",
       "      <td>17</td>\n",
       "    </tr>\n",
       "  </tbody>\n",
       "</table>\n",
       "</div>"
      ],
      "text/plain": [
       "           Almond Butter  Peanut Butter  Cashew Butter\n",
       "Monday                 3             14             15\n",
       "Tuesday                6             16              9\n",
       "Wednesday              8              4              7\n",
       "Thursday              16             16              7\n",
       "Friday                12             15             17"
      ]
     },
     "execution_count": 333,
     "metadata": {},
     "output_type": "execute_result"
    }
   ],
   "source": [
    "# Create a sales dataframe\n",
    "sales_dataframe = pd.DataFrame(sales,\n",
    "                              index=['Monday','Tuesday','Wednesday','Thursday','Friday'],\n",
    "                              columns=['Almond Butter','Peanut Butter','Cashew Butter'])\n",
    "sales_dataframe"
   ]
  },
  {
   "cell_type": "code",
   "execution_count": 334,
   "id": "exotic-prague",
   "metadata": {},
   "outputs": [
    {
     "data": {
      "text/plain": [
       "array([[6, 1, 4]])"
      ]
     },
     "execution_count": 334,
     "metadata": {},
     "output_type": "execute_result"
    }
   ],
   "source": [
    "np.random.seed(0)\n",
    "prices = np.random.randint(1,10,size=(1,3))\n",
    "prices"
   ]
  },
  {
   "cell_type": "code",
   "execution_count": 335,
   "id": "bearing-inflation",
   "metadata": {},
   "outputs": [
    {
     "data": {
      "text/html": [
       "<div>\n",
       "<style scoped>\n",
       "    .dataframe tbody tr th:only-of-type {\n",
       "        vertical-align: middle;\n",
       "    }\n",
       "\n",
       "    .dataframe tbody tr th {\n",
       "        vertical-align: top;\n",
       "    }\n",
       "\n",
       "    .dataframe thead th {\n",
       "        text-align: right;\n",
       "    }\n",
       "</style>\n",
       "<table border=\"1\" class=\"dataframe\">\n",
       "  <thead>\n",
       "    <tr style=\"text-align: right;\">\n",
       "      <th></th>\n",
       "      <th>Almond Butter</th>\n",
       "      <th>Peanut Butter</th>\n",
       "      <th>Cashew Butter</th>\n",
       "    </tr>\n",
       "  </thead>\n",
       "  <tbody>\n",
       "    <tr>\n",
       "      <th>Price</th>\n",
       "      <td>6</td>\n",
       "      <td>1</td>\n",
       "      <td>4</td>\n",
       "    </tr>\n",
       "  </tbody>\n",
       "</table>\n",
       "</div>"
      ],
      "text/plain": [
       "       Almond Butter  Peanut Butter  Cashew Butter\n",
       "Price              6              1              4"
      ]
     },
     "execution_count": 335,
     "metadata": {},
     "output_type": "execute_result"
    }
   ],
   "source": [
    "prices_dataframe = pd.DataFrame(prices,\n",
    "                               index=['Price'],\n",
    "                               columns=sales_dataframe.columns)\n",
    "prices_dataframe"
   ]
  },
  {
   "cell_type": "code",
   "execution_count": 336,
   "id": "descending-prior",
   "metadata": {},
   "outputs": [
    {
     "data": {
      "text/plain": [
       "array([[ 92],\n",
       "       [ 88],\n",
       "       [ 80],\n",
       "       [140],\n",
       "       [155]])"
      ]
     },
     "execution_count": 336,
     "metadata": {},
     "output_type": "execute_result"
    }
   ],
   "source": [
    "total_price = np.dot(sales,prices.T)\n",
    "total_price"
   ]
  },
  {
   "cell_type": "code",
   "execution_count": 337,
   "id": "worse-strike",
   "metadata": {},
   "outputs": [
    {
     "data": {
      "text/plain": [
       "Monday        92\n",
       "Tuesday       88\n",
       "Wednesday     80\n",
       "Thursday     140\n",
       "Friday       155\n",
       "dtype: int64"
      ]
     },
     "execution_count": 337,
     "metadata": {},
     "output_type": "execute_result"
    }
   ],
   "source": [
    "income_series = pd.Series(total_price[:,0],index=sales_dataframe.index)\n",
    "income_series"
   ]
  },
  {
   "cell_type": "code",
   "execution_count": 338,
   "id": "collective-bailey",
   "metadata": {},
   "outputs": [
    {
     "data": {
      "text/html": [
       "<div>\n",
       "<style scoped>\n",
       "    .dataframe tbody tr th:only-of-type {\n",
       "        vertical-align: middle;\n",
       "    }\n",
       "\n",
       "    .dataframe tbody tr th {\n",
       "        vertical-align: top;\n",
       "    }\n",
       "\n",
       "    .dataframe thead th {\n",
       "        text-align: right;\n",
       "    }\n",
       "</style>\n",
       "<table border=\"1\" class=\"dataframe\">\n",
       "  <thead>\n",
       "    <tr style=\"text-align: right;\">\n",
       "      <th></th>\n",
       "      <th>Almond Butter</th>\n",
       "      <th>Peanut Butter</th>\n",
       "      <th>Cashew Butter</th>\n",
       "      <th>Total income</th>\n",
       "    </tr>\n",
       "  </thead>\n",
       "  <tbody>\n",
       "    <tr>\n",
       "      <th>Monday</th>\n",
       "      <td>3</td>\n",
       "      <td>14</td>\n",
       "      <td>15</td>\n",
       "      <td>92</td>\n",
       "    </tr>\n",
       "    <tr>\n",
       "      <th>Tuesday</th>\n",
       "      <td>6</td>\n",
       "      <td>16</td>\n",
       "      <td>9</td>\n",
       "      <td>88</td>\n",
       "    </tr>\n",
       "    <tr>\n",
       "      <th>Wednesday</th>\n",
       "      <td>8</td>\n",
       "      <td>4</td>\n",
       "      <td>7</td>\n",
       "      <td>80</td>\n",
       "    </tr>\n",
       "    <tr>\n",
       "      <th>Thursday</th>\n",
       "      <td>16</td>\n",
       "      <td>16</td>\n",
       "      <td>7</td>\n",
       "      <td>140</td>\n",
       "    </tr>\n",
       "    <tr>\n",
       "      <th>Friday</th>\n",
       "      <td>12</td>\n",
       "      <td>15</td>\n",
       "      <td>17</td>\n",
       "      <td>155</td>\n",
       "    </tr>\n",
       "  </tbody>\n",
       "</table>\n",
       "</div>"
      ],
      "text/plain": [
       "           Almond Butter  Peanut Butter  Cashew Butter  Total income\n",
       "Monday                 3             14             15            92\n",
       "Tuesday                6             16              9            88\n",
       "Wednesday              8              4              7            80\n",
       "Thursday              16             16              7           140\n",
       "Friday                12             15             17           155"
      ]
     },
     "execution_count": 338,
     "metadata": {},
     "output_type": "execute_result"
    }
   ],
   "source": [
    "sales_dataframe['Total income'] = income_series\n",
    "sales_dataframe"
   ]
  },
  {
   "cell_type": "code",
   "execution_count": 348,
   "id": "isolated-nepal",
   "metadata": {},
   "outputs": [
    {
     "data": {
      "text/plain": [
       "array([[6, 1, 4],\n",
       "       [4, 8, 4]])"
      ]
     },
     "execution_count": 348,
     "metadata": {},
     "output_type": "execute_result"
    }
   ],
   "source": [
    "np.random.seed(0)\n",
    "price_and_tax = np.random.randint(1,10,size=(2,3))\n",
    "price_and_tax"
   ]
  },
  {
   "cell_type": "code",
   "execution_count": 342,
   "id": "blocked-melissa",
   "metadata": {},
   "outputs": [
    {
     "data": {
      "text/plain": [
       "array([[ 92, 184],\n",
       "       [ 88, 188],\n",
       "       [ 80,  92],\n",
       "       [140, 220],\n",
       "       [155, 236]])"
      ]
     },
     "execution_count": 342,
     "metadata": {},
     "output_type": "execute_result"
    }
   ],
   "source": [
    "totals = np.dot(sales,price_and_tax.T)\n",
    "totals"
   ]
  },
  {
   "cell_type": "code",
   "execution_count": 343,
   "id": "deluxe-auction",
   "metadata": {},
   "outputs": [
    {
     "data": {
      "text/html": [
       "<div>\n",
       "<style scoped>\n",
       "    .dataframe tbody tr th:only-of-type {\n",
       "        vertical-align: middle;\n",
       "    }\n",
       "\n",
       "    .dataframe tbody tr th {\n",
       "        vertical-align: top;\n",
       "    }\n",
       "\n",
       "    .dataframe thead th {\n",
       "        text-align: right;\n",
       "    }\n",
       "</style>\n",
       "<table border=\"1\" class=\"dataframe\">\n",
       "  <thead>\n",
       "    <tr style=\"text-align: right;\">\n",
       "      <th></th>\n",
       "      <th>Total income</th>\n",
       "      <th>Total revenue</th>\n",
       "    </tr>\n",
       "  </thead>\n",
       "  <tbody>\n",
       "    <tr>\n",
       "      <th>Monday</th>\n",
       "      <td>92</td>\n",
       "      <td>184</td>\n",
       "    </tr>\n",
       "    <tr>\n",
       "      <th>Tuesday</th>\n",
       "      <td>88</td>\n",
       "      <td>188</td>\n",
       "    </tr>\n",
       "    <tr>\n",
       "      <th>Wednesday</th>\n",
       "      <td>80</td>\n",
       "      <td>92</td>\n",
       "    </tr>\n",
       "    <tr>\n",
       "      <th>Thursday</th>\n",
       "      <td>140</td>\n",
       "      <td>220</td>\n",
       "    </tr>\n",
       "    <tr>\n",
       "      <th>Friday</th>\n",
       "      <td>155</td>\n",
       "      <td>236</td>\n",
       "    </tr>\n",
       "  </tbody>\n",
       "</table>\n",
       "</div>"
      ],
      "text/plain": [
       "           Total income  Total revenue\n",
       "Monday               92            184\n",
       "Tuesday              88            188\n",
       "Wednesday            80             92\n",
       "Thursday            140            220\n",
       "Friday              155            236"
      ]
     },
     "execution_count": 343,
     "metadata": {},
     "output_type": "execute_result"
    }
   ],
   "source": [
    "totals_dataframe = pd.DataFrame(totals,\n",
    "                               index=sales_dataframe.index,\n",
    "                               columns=['Total income','Total revenue'])\n",
    "totals_dataframe"
   ]
  },
  {
   "cell_type": "code",
   "execution_count": 347,
   "id": "lined-chase",
   "metadata": {},
   "outputs": [
    {
     "data": {
      "text/html": [
       "<div>\n",
       "<style scoped>\n",
       "    .dataframe tbody tr th:only-of-type {\n",
       "        vertical-align: middle;\n",
       "    }\n",
       "\n",
       "    .dataframe tbody tr th {\n",
       "        vertical-align: top;\n",
       "    }\n",
       "\n",
       "    .dataframe thead th {\n",
       "        text-align: right;\n",
       "    }\n",
       "</style>\n",
       "<table border=\"1\" class=\"dataframe\">\n",
       "  <thead>\n",
       "    <tr style=\"text-align: right;\">\n",
       "      <th></th>\n",
       "      <th>Almond Butter</th>\n",
       "      <th>Peanut Butter</th>\n",
       "      <th>Cashew Butter</th>\n",
       "      <th>Total income</th>\n",
       "      <th>Total revenue</th>\n",
       "    </tr>\n",
       "  </thead>\n",
       "  <tbody>\n",
       "    <tr>\n",
       "      <th>Monday</th>\n",
       "      <td>3</td>\n",
       "      <td>14</td>\n",
       "      <td>15</td>\n",
       "      <td>92</td>\n",
       "      <td>184</td>\n",
       "    </tr>\n",
       "    <tr>\n",
       "      <th>Tuesday</th>\n",
       "      <td>6</td>\n",
       "      <td>16</td>\n",
       "      <td>9</td>\n",
       "      <td>88</td>\n",
       "      <td>188</td>\n",
       "    </tr>\n",
       "    <tr>\n",
       "      <th>Wednesday</th>\n",
       "      <td>8</td>\n",
       "      <td>4</td>\n",
       "      <td>7</td>\n",
       "      <td>80</td>\n",
       "      <td>92</td>\n",
       "    </tr>\n",
       "    <tr>\n",
       "      <th>Thursday</th>\n",
       "      <td>16</td>\n",
       "      <td>16</td>\n",
       "      <td>7</td>\n",
       "      <td>140</td>\n",
       "      <td>220</td>\n",
       "    </tr>\n",
       "    <tr>\n",
       "      <th>Friday</th>\n",
       "      <td>12</td>\n",
       "      <td>15</td>\n",
       "      <td>17</td>\n",
       "      <td>155</td>\n",
       "      <td>236</td>\n",
       "    </tr>\n",
       "  </tbody>\n",
       "</table>\n",
       "</div>"
      ],
      "text/plain": [
       "           Almond Butter  Peanut Butter  Cashew Butter  Total income  \\\n",
       "Monday                 3             14             15            92   \n",
       "Tuesday                6             16              9            88   \n",
       "Wednesday              8              4              7            80   \n",
       "Thursday              16             16              7           140   \n",
       "Friday                12             15             17           155   \n",
       "\n",
       "           Total revenue  \n",
       "Monday               184  \n",
       "Tuesday              188  \n",
       "Wednesday             92  \n",
       "Thursday             220  \n",
       "Friday               236  "
      ]
     },
     "execution_count": 347,
     "metadata": {},
     "output_type": "execute_result"
    }
   ],
   "source": [
    "sales_dataframe = pd.concat([sales_dataframe.drop('Total income',axis=1), totals_dataframe],axis=1)\n",
    "\n",
    "sales_dataframe"
   ]
  },
  {
   "cell_type": "code",
   "execution_count": 351,
   "id": "overall-census",
   "metadata": {},
   "outputs": [
    {
     "data": {
      "text/html": [
       "<div>\n",
       "<style scoped>\n",
       "    .dataframe tbody tr th:only-of-type {\n",
       "        vertical-align: middle;\n",
       "    }\n",
       "\n",
       "    .dataframe tbody tr th {\n",
       "        vertical-align: top;\n",
       "    }\n",
       "\n",
       "    .dataframe thead th {\n",
       "        text-align: right;\n",
       "    }\n",
       "</style>\n",
       "<table border=\"1\" class=\"dataframe\">\n",
       "  <thead>\n",
       "    <tr style=\"text-align: right;\">\n",
       "      <th></th>\n",
       "      <th>Almond Butter</th>\n",
       "      <th>Peanut Butter</th>\n",
       "      <th>Cashew Butter</th>\n",
       "    </tr>\n",
       "  </thead>\n",
       "  <tbody>\n",
       "    <tr>\n",
       "      <th>Price</th>\n",
       "      <td>6</td>\n",
       "      <td>1</td>\n",
       "      <td>4</td>\n",
       "    </tr>\n",
       "    <tr>\n",
       "      <th>Tax</th>\n",
       "      <td>4</td>\n",
       "      <td>8</td>\n",
       "      <td>4</td>\n",
       "    </tr>\n",
       "  </tbody>\n",
       "</table>\n",
       "</div>"
      ],
      "text/plain": [
       "       Almond Butter  Peanut Butter  Cashew Butter\n",
       "Price              6              1              4\n",
       "Tax                4              8              4"
      ]
     },
     "execution_count": 351,
     "metadata": {},
     "output_type": "execute_result"
    }
   ],
   "source": [
    "# add price and tax to dataframe for display\n",
    "price_and_tax_dataframe = pd.DataFrame(price_and_tax,\n",
    "                                      columns=prices_dataframe.columns,\n",
    "                                      index=['Price','Tax'])\n",
    "price_and_tax_dataframe"
   ]
  },
  {
   "cell_type": "code",
   "execution_count": 353,
   "id": "prostate-vacuum",
   "metadata": {},
   "outputs": [
    {
     "data": {
      "text/html": [
       "<div>\n",
       "<style scoped>\n",
       "    .dataframe tbody tr th:only-of-type {\n",
       "        vertical-align: middle;\n",
       "    }\n",
       "\n",
       "    .dataframe tbody tr th {\n",
       "        vertical-align: top;\n",
       "    }\n",
       "\n",
       "    .dataframe thead th {\n",
       "        text-align: right;\n",
       "    }\n",
       "</style>\n",
       "<table border=\"1\" class=\"dataframe\">\n",
       "  <thead>\n",
       "    <tr style=\"text-align: right;\">\n",
       "      <th></th>\n",
       "      <th>Almond Butter</th>\n",
       "      <th>Peanut Butter</th>\n",
       "      <th>Cashew Butter</th>\n",
       "      <th>Total income</th>\n",
       "      <th>Total revenue</th>\n",
       "    </tr>\n",
       "  </thead>\n",
       "  <tbody>\n",
       "    <tr>\n",
       "      <th>Monday</th>\n",
       "      <td>3</td>\n",
       "      <td>14</td>\n",
       "      <td>15</td>\n",
       "      <td>92.0</td>\n",
       "      <td>184.0</td>\n",
       "    </tr>\n",
       "    <tr>\n",
       "      <th>Tuesday</th>\n",
       "      <td>6</td>\n",
       "      <td>16</td>\n",
       "      <td>9</td>\n",
       "      <td>88.0</td>\n",
       "      <td>188.0</td>\n",
       "    </tr>\n",
       "    <tr>\n",
       "      <th>Wednesday</th>\n",
       "      <td>8</td>\n",
       "      <td>4</td>\n",
       "      <td>7</td>\n",
       "      <td>80.0</td>\n",
       "      <td>92.0</td>\n",
       "    </tr>\n",
       "    <tr>\n",
       "      <th>Thursday</th>\n",
       "      <td>16</td>\n",
       "      <td>16</td>\n",
       "      <td>7</td>\n",
       "      <td>140.0</td>\n",
       "      <td>220.0</td>\n",
       "    </tr>\n",
       "    <tr>\n",
       "      <th>Friday</th>\n",
       "      <td>12</td>\n",
       "      <td>15</td>\n",
       "      <td>17</td>\n",
       "      <td>155.0</td>\n",
       "      <td>236.0</td>\n",
       "    </tr>\n",
       "    <tr>\n",
       "      <th>Price</th>\n",
       "      <td>6</td>\n",
       "      <td>1</td>\n",
       "      <td>4</td>\n",
       "      <td>NaN</td>\n",
       "      <td>NaN</td>\n",
       "    </tr>\n",
       "    <tr>\n",
       "      <th>Tax</th>\n",
       "      <td>4</td>\n",
       "      <td>8</td>\n",
       "      <td>4</td>\n",
       "      <td>NaN</td>\n",
       "      <td>NaN</td>\n",
       "    </tr>\n",
       "  </tbody>\n",
       "</table>\n",
       "</div>"
      ],
      "text/plain": [
       "           Almond Butter  Peanut Butter  Cashew Butter  Total income  \\\n",
       "Monday                 3             14             15          92.0   \n",
       "Tuesday                6             16              9          88.0   \n",
       "Wednesday              8              4              7          80.0   \n",
       "Thursday              16             16              7         140.0   \n",
       "Friday                12             15             17         155.0   \n",
       "Price                  6              1              4           NaN   \n",
       "Tax                    4              8              4           NaN   \n",
       "\n",
       "           Total revenue  \n",
       "Monday             184.0  \n",
       "Tuesday            188.0  \n",
       "Wednesday           92.0  \n",
       "Thursday           220.0  \n",
       "Friday             236.0  \n",
       "Price                NaN  \n",
       "Tax                  NaN  "
      ]
     },
     "execution_count": 353,
     "metadata": {},
     "output_type": "execute_result"
    }
   ],
   "source": [
    "# Dataframe displaying everything\n",
    "pd.concat([sales_dataframe, price_and_tax_dataframe],axis=0)"
   ]
  },
  {
   "cell_type": "code",
   "execution_count": null,
   "id": "russian-disaster",
   "metadata": {},
   "outputs": [],
   "source": []
  }
 ],
 "metadata": {
  "kernelspec": {
   "display_name": "Python 3",
   "language": "python",
   "name": "python3"
  },
  "language_info": {
   "codemirror_mode": {
    "name": "ipython",
    "version": 3
   },
   "file_extension": ".py",
   "mimetype": "text/x-python",
   "name": "python",
   "nbconvert_exporter": "python",
   "pygments_lexer": "ipython3",
   "version": "3.8.5"
  }
 },
 "nbformat": 4,
 "nbformat_minor": 5
}
